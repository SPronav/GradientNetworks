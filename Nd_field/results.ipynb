{
 "cells": [
  {
   "cell_type": "markdown",
   "metadata": {},
   "source": [
    "### Plot results of Nd field experiments"
   ]
  },
  {
   "cell_type": "code",
   "execution_count": 4,
   "metadata": {},
   "outputs": [
    {
     "name": "stdout",
     "output_type": "stream",
     "text": [
      "GPU available. Using : NVIDIA GeForce RTX 2080 Ti\n"
     ]
    }
   ],
   "source": [
    "import sys\n",
    "import os\n",
    "from os.path import join\n",
    "sys.path.append('../')\n",
    "\n",
    "import torch \n",
    "import numpy as np \n",
    "import torch.nn as nn\n",
    "from tqdm import tqdm\n",
    "from utils.jac_tests import check_jac_sym, check_jac_psd\n",
    "import pandas as pd\n",
    "\n",
    "from test_functions import PolyMax\n",
    "from utils.make_model import *\n",
    "\n",
    "gpu = 0\n",
    "trials = 15\n",
    "\n",
    "if torch.cuda.is_available():\n",
    "    device = torch.device(\"cuda:\"+str(gpu))\n",
    "    print(\"GPU available. Using : \" + torch.cuda.get_device_name(0))\n",
    "else:\n",
    "    device = torch.device(\"cpu\")\n",
    "    print(\"GPU not available. Using CPU.\")\n",
    "\n",
    "def load_model(model_name, path, filename):\n",
    "    model = make_model(model_name, dim)\n",
    "    model.load_state_dict(torch.load(join(path, filename)))\n",
    "    return model"
   ]
  },
  {
   "cell_type": "code",
   "execution_count": 5,
   "metadata": {},
   "outputs": [],
   "source": [
    "def get_test_errs(fn_name, dim, folder, seed, device):\n",
    "    results = []\n",
    "    n_pts = 10000\n",
    "    \n",
    "    ## Load function\n",
    "    field = PolyMax(dim, device)\n",
    "\n",
    "    np.random.seed(seed)\n",
    "    torch.manual_seed(seed)\n",
    "    if torch.cuda.is_available():\n",
    "        torch.cuda.manual_seed(seed)\n",
    "\n",
    "    pts = torch.rand(size=(n_pts, dim)).to(device)\n",
    "    true_grad = field(pts, train=False)\n",
    "    for model_name in os.listdir(join(folder, fn_name, 'dim'+str(dim))):\n",
    "        for filename in os.listdir(join(folder, fn_name, 'dim'+str(dim), model_name)):\n",
    "            net = load_model(model_name, join(folder, fn_name, 'dim'+str(dim), model_name), filename)\n",
    "            net.to(device)\n",
    "            params = sum(p.size().numel() for p in net.parameters() if p.requires_grad)\n",
    "            net.eval()\n",
    "\n",
    "            with torch.no_grad():\n",
    "                pred_grad = net(pts)\n",
    "            \n",
    "            err = torch.mean(torch.linalg.vector_norm(pred_grad - true_grad, dim=-1, ord=2)**2)\n",
    "            err = 10 * torch.log10(err)\n",
    "            results.append([model_name, err.item(), params, filename])\n",
    "    df = pd.DataFrame(results, columns=['model', 'mse', 'params', 'filename'])\n",
    "    return df"
   ]
  },
  {
   "cell_type": "code",
   "execution_count": 6,
   "metadata": {},
   "outputs": [
    {
     "name": "stdout",
     "output_type": "stream",
     "text": [
      "\n",
      "POLYMAX RESULTS : dim = 256\n",
      "   model           filename  params       mean       std\n",
      "0  mGN-C   model-lr0.001.pt  261904 -10.637234  0.014446\n",
      "1  mGN-M  model-lr0.0001.pt  261384 -11.297316  0.015212\n",
      "\n",
      "POLYMAX RESULTS : dim = 1024\n",
      "   model           filename   params       mean       std\n",
      "0  mGN-C  model-lr0.0001.pt  1048156  -8.747474  0.019742\n",
      "1  mGN-M   model-lr0.001.pt  1046540 -10.419901  0.012317\n"
     ]
    }
   ],
   "source": [
    "dims = [256, 1024]\n",
    "\n",
    "for dim in dims:\n",
    "    df = []\n",
    "    for trial in range(trials):\n",
    "        df_ = get_test_errs('polymax', dim, 'trained_models', trial + 10, device)\n",
    "        df_['trial'] = trial\n",
    "        df.append(df_)\n",
    "    \n",
    "    df = pd.concat(df, axis=0, ignore_index=True)\n",
    "    \n",
    "    print(f'\\nPOLYMAX RESULTS : dim = {dim}')\n",
    "    \n",
    "    polymax_df = df.groupby(['model', 'filename', 'params'])['mse'].agg(['mean', 'std'])\n",
    "    idx = polymax_df.groupby('model')['mean'].idxmin()\n",
    "    polymax_df = polymax_df.loc[idx].reset_index()\n",
    "    \n",
    "    print(polymax_df)\n"
   ]
  }
 ],
 "metadata": {
  "kernelspec": {
   "display_name": "py311",
   "language": "python",
   "name": "python3"
  },
  "language_info": {
   "codemirror_mode": {
    "name": "ipython",
    "version": 3
   },
   "file_extension": ".py",
   "mimetype": "text/x-python",
   "name": "python",
   "nbconvert_exporter": "python",
   "pygments_lexer": "ipython3",
   "version": "3.11.6"
  }
 },
 "nbformat": 4,
 "nbformat_minor": 2
}
